{
 "cells": [
  {
   "cell_type": "code",
   "execution_count": 1,
   "id": "e57b9ede-300f-4047-8fc5-333209eef878",
   "metadata": {},
   "outputs": [
    {
     "data": {
      "text/plain": [
       "np.float64(14.231254785985819)"
      ]
     },
     "execution_count": 1,
     "metadata": {},
     "output_type": "execute_result"
    }
   ],
   "source": [
    "import numpy as np\n",
    "from scipy.stats import norm\n",
    "\n",
    "def black_scholes_call(S, K, sigma, r, t):\n",
    "    d1 = (np.log(S/K) + (r + ((sigma**2)/2))*t) / (sigma * np.sqrt(t))\n",
    "    d2 = d1 - (sigma * np.sqrt(t))\n",
    "    C = S * norm.cdf(d1) - K * np.exp(-r*t) * norm.cdf(d2)\n",
    "    return C\n",
    "\n",
    "black_scholes_call(100, 100, .3, .05, 1)"
   ]
  },
  {
   "cell_type": "code",
   "execution_count": null,
   "id": "91be1785-c6f5-420d-909f-8e0c529a67f3",
   "metadata": {},
   "outputs": [],
   "source": [
    "import matplotlib.pyplot as plt\n",
    "import qfin as qf\n",
    "\n",
    "# simulate dynamics of the underlying according to Geometric Brownian Motion\n",
    "path = qf.simulations.GeometricBrownianMotion(100, 0.05, .3, 1/252, 1)\n",
    "\n",
    "\n",
    "# create a chart of the price path and the strike price\n",
    "plt.title(\"Terminal Value of an Option Contract\")\n",
    "plt.hlines(100, 0, 252, label='Strike', color='orange')\n",
    "plt.plot(path.simulated_path, label='Price Path', color='white')\n",
    "if max(path.simulated_path[-1] - 100, 0) == 0:\n",
    "    plt.vlines(252, path.simulated_path[-1], 100, color='red', label=\"P/L\")\n",
    "else:\n",
    "    plt.vlines(252, 100, path.simulated_path[-1], color='green', label=\"P/L\")\n",
    "plt.style.use('dark_background')\n",
    "plt.xlabel('Time')\n",
    "plt.ylabel('Stock Price')\n",
    "plt.legend()\n",
    "plt.show()\n",
    "\n",
    "# print the premium and the resulting P/L\n",
    "print(\"Premium at t=0:\", black_scholes_call(100, 100, .3, .05, 1))\n",
    "print(\"P/L:\", max(path.simulated_path[-1] - 100, 0) - black_scholes_call(100, 100, .3, .05, 1))"
   ]
  },
  {
   "cell_type": "code",
   "execution_count": 3,
   "id": "38fe68de-a443-4dc4-aa69-500acd236d43",
   "metadata": {},
   "outputs": [
    {
     "name": "stdout",
     "output_type": "stream",
     "text": [
      "Call Price: 14.231254785985819\n",
      "Market Maker Quote: 13.43 @ 14.10\n",
      "Trade Edge: 0.13125478598581886\n"
     ]
    }
   ],
   "source": [
    "print(\"Call Price:\", black_scholes_call(100, 100, .3, .05, 1))\n",
    "print(\"Market Maker Quote:\", \"13.43 @ 14.10\")\n",
    "print(\"Trade Edge:\", black_scholes_call(100, 100, .3, .05, 1) - 14.10)"
   ]
  },
  {
   "cell_type": "code",
   "execution_count": 8,
   "id": "602fe810-c647-4a69-99d2-d47859a9e32d",
   "metadata": {},
   "outputs": [
    {
     "data": {
      "text/plain": [
       "np.float64(87.46723562697265)"
      ]
     },
     "execution_count": 8,
     "metadata": {},
     "output_type": "execute_result"
    }
   ],
   "source": [
    "import numpy as np\n",
    "# The correct package for quantitative finance might be QuantLib (capital Q and L)\n",
    "# or another library like yfinance, pandas_datareader, or scipy for simulations\n",
    "# Let's use numpy for a simple GBM simulation instead\n",
    "\n",
    "# Define our own Geometric Brownian Motion simulation function\n",
    "def geometric_brownian_motion(S0, mu, sigma, dt, T):\n",
    "    \"\"\"\n",
    "    Simulate a geometric Brownian motion\n",
    "    S0: initial stock price\n",
    "    mu: drift (expected return)\n",
    "    sigma: volatility\n",
    "    dt: time step\n",
    "    T: time horizon in days\n",
    "    \"\"\"\n",
    "    n_steps = int(T/dt)\n",
    "    t = np.linspace(0, T, n_steps+1)\n",
    "    W = np.random.standard_normal(size=n_steps+1)\n",
    "    W[0] = 0\n",
    "    W = np.cumsum(W) * np.sqrt(dt)  # Brownian motion\n",
    "    X = (mu - 0.5 * sigma**2) * t + sigma * W\n",
    "    S = S0 * np.exp(X)  # Geometric Brownian motion\n",
    "    return S\n",
    "\n",
    "premium = 14.10 * 100\n",
    "pls = []\n",
    "\n",
    "for i in range(100000):\n",
    "    # Simulate a path using our function\n",
    "    path = geometric_brownian_motion(100, 0.05, 0.3, 1/252, 1)\n",
    "    # Calculate profit/loss for this path\n",
    "    pls.append(max(path[-1] - 100, 0)*100 - premium)\n",
    "\n",
    "np.mean(pls)"
   ]
  },
  {
   "cell_type": "code",
   "execution_count": 5,
   "id": "473b29a2-9760-4af5-aa60-283dded88dc9",
   "metadata": {},
   "outputs": [
    {
     "ename": "NameError",
     "evalue": "name 'qf' is not defined",
     "output_type": "error",
     "traceback": [
      "\u001b[1;31m---------------------------------------------------------------------------\u001b[0m",
      "\u001b[1;31mNameError\u001b[0m                                 Traceback (most recent call last)",
      "Cell \u001b[1;32mIn[5], line 5\u001b[0m\n\u001b[0;32m      2\u001b[0m pls \u001b[38;5;241m=\u001b[39m []\n\u001b[0;32m      4\u001b[0m \u001b[38;5;28;01mfor\u001b[39;00m i \u001b[38;5;129;01min\u001b[39;00m \u001b[38;5;28mrange\u001b[39m(\u001b[38;5;241m100000\u001b[39m):\n\u001b[1;32m----> 5\u001b[0m     path \u001b[38;5;241m=\u001b[39m qf\u001b[38;5;241m.\u001b[39msimulations\u001b[38;5;241m.\u001b[39mGeometricBrownianMotion(\u001b[38;5;241m100\u001b[39m, \u001b[38;5;241m-\u001b[39m\u001b[38;5;241m.5\u001b[39m, \u001b[38;5;241m.3\u001b[39m, \u001b[38;5;241m1\u001b[39m\u001b[38;5;241m/\u001b[39m\u001b[38;5;241m252\u001b[39m, \u001b[38;5;241m1\u001b[39m)\n\u001b[0;32m      6\u001b[0m     pls\u001b[38;5;241m.\u001b[39mappend(\u001b[38;5;28mmax\u001b[39m(path\u001b[38;5;241m.\u001b[39msimulated_path[\u001b[38;5;241m-\u001b[39m\u001b[38;5;241m1\u001b[39m] \u001b[38;5;241m-\u001b[39m \u001b[38;5;241m100\u001b[39m, \u001b[38;5;241m0\u001b[39m)\u001b[38;5;241m*\u001b[39m\u001b[38;5;241m100\u001b[39m \u001b[38;5;241m-\u001b[39m premium)\n\u001b[0;32m      8\u001b[0m plt\u001b[38;5;241m.\u001b[39mtitle(\u001b[38;5;124m\"\u001b[39m\u001b[38;5;124mTrading this Edge Over Time\u001b[39m\u001b[38;5;124m\"\u001b[39m)\n",
      "\u001b[1;31mNameError\u001b[0m: name 'qf' is not defined"
     ]
    }
   ],
   "source": [
    "premium = 14.10 * 100\n",
    "pls = []\n",
    "\n",
    "for i in range(100000):\n",
    "    path = qf.simulations.GeometricBrownianMotion(100, -.5, .3, 1/252, 1)\n",
    "    pls.append(max(path.simulated_path[-1] - 100, 0)*100 - premium)\n",
    "\n",
    "plt.title(\"Trading this Edge Over Time\")\n",
    "plt.plot(np.cumsum(pls), label=\"Account Equity\")\n",
    "plt.style.use('dark_background')\n",
    "plt.xlabel('Option Trade')\n",
    "plt.ylabel('Portfolio Value')\n",
    "plt.legend()\n",
    "plt.show()"
   ]
  },
  {
   "cell_type": "code",
   "execution_count": 9,
   "id": "b0e3ca3e-e4fb-4514-a733-d3c133b4cf72",
   "metadata": {},
   "outputs": [
    {
     "ename": "ModuleNotFoundError",
     "evalue": "No module named 'quantfinance'",
     "output_type": "error",
     "traceback": [
      "\u001b[1;31m---------------------------------------------------------------------------\u001b[0m",
      "\u001b[1;31mModuleNotFoundError\u001b[0m                       Traceback (most recent call last)",
      "Cell \u001b[1;32mIn[9], line 2\u001b[0m\n\u001b[0;32m      1\u001b[0m \u001b[38;5;66;03m# Import the missing module\u001b[39;00m\n\u001b[1;32m----> 2\u001b[0m \u001b[38;5;28;01mimport\u001b[39;00m\u001b[38;5;250m \u001b[39m\u001b[38;5;21;01mquantfinance\u001b[39;00m\u001b[38;5;250m \u001b[39m\u001b[38;5;28;01mas\u001b[39;00m\u001b[38;5;250m \u001b[39m\u001b[38;5;21;01mqf\u001b[39;00m  \u001b[38;5;66;03m# This is an assumption - you may need to use the actual module name\u001b[39;00m\n\u001b[0;32m      3\u001b[0m \u001b[38;5;28;01mimport\u001b[39;00m\u001b[38;5;250m \u001b[39m\u001b[38;5;21;01mnumpy\u001b[39;00m\u001b[38;5;250m \u001b[39m\u001b[38;5;28;01mas\u001b[39;00m\u001b[38;5;250m \u001b[39m\u001b[38;5;21;01mnp\u001b[39;00m\n\u001b[0;32m      4\u001b[0m \u001b[38;5;28;01mimport\u001b[39;00m\u001b[38;5;250m \u001b[39m\u001b[38;5;21;01mmatplotlib\u001b[39;00m\u001b[38;5;21;01m.\u001b[39;00m\u001b[38;5;21;01mpyplot\u001b[39;00m\u001b[38;5;250m \u001b[39m\u001b[38;5;28;01mas\u001b[39;00m\u001b[38;5;250m \u001b[39m\u001b[38;5;21;01mplt\u001b[39;00m\n",
      "\u001b[1;31mModuleNotFoundError\u001b[0m: No module named 'quantfinance'"
     ]
    }
   ],
   "source": [
    "# Import the missing module\n",
    "import quantfinance as qf  # This is an assumption - you may need to use the actual module name\n",
    "import numpy as np\n",
    "import matplotlib.pyplot as plt\n",
    "\n",
    "premium = 14.10 * 100\n",
    "pls = []\n",
    "\n",
    "for i in range(100000):\n",
    "    path = qf.simulations.GeometricBrownianMotion(100, -.5, .3, 1/252, 1)\n",
    "    pls.append(max(path.simulated_path[-1] - 100, 0)*100 - premium)\n",
    "\n",
    "plt.title(\"Trading this Edge Over Time\")\n",
    "plt.plot(np.cumsum(pls), label=\"Account Equity\")\n",
    "plt.style.use('dark_background')\n",
    "plt.xlabel('Option Trade')\n",
    "plt.ylabel('Portfolio Value')\n",
    "plt.legend()\n",
    "plt.show()"
   ]
  },
  {
   "cell_type": "code",
   "execution_count": 10,
   "id": "33b216fc-a9e7-4525-ae71-f7753fc3168a",
   "metadata": {},
   "outputs": [
    {
     "data": {
      "image/png": "[encoded data removed]",
      "text/plain": [
       "<Figure size 640x480 with 1 Axes>"
      ]
     },
     "metadata": {},
     "output_type": "display_data"
    }
   ],
   "source": [
    "# Fix the import error by installing the required package\n",
    "# You may need to run this in a cell first: !pip install quantlib-python or another appropriate package\n",
    "\n",
    "# Alternative approach using standard libraries instead of the missing quantfinance module\n",
    "import numpy as np\n",
    "import matplotlib.pyplot as plt\n",
    "from numpy.random import normal\n",
    "\n",
    "# Define our own Geometric Brownian Motion simulation function\n",
    "def simulate_gbm(s0, mu, sigma, dt, T):\n",
    "    n_steps = int(T/dt)\n",
    "    t = np.linspace(0, T, n_steps+1)\n",
    "    W = normal(0, np.sqrt(dt), n_steps+1)\n",
    "    W[0] = 0\n",
    "    W = np.cumsum(W)\n",
    "    \n",
    "    # GBM formula\n",
    "    S = s0 * np.exp((mu - 0.5 * sigma**2) * t + sigma * W)\n",
    "    return S\n",
    "\n",
    "premium = 14.10 * 100\n",
    "pls = []\n",
    "\n",
    "for i in range(100000):\n",
    "    # Using our own GBM simulation instead of the quantfinance module\n",
    "    path = simulate_gbm(100, -0.5, 0.3, 1/252, 1)\n",
    "    pls.append(max(path[-1] - 100, 0)*100 - premium)\n",
    "\n",
    "plt.title(\"Trading this Edge Over Time\")\n",
    "plt.plot(np.cumsum(pls), label=\"Account Equity\")\n",
    "plt.style.use('dark_background')\n",
    "plt.xlabel('Option Trade')\n",
    "plt.ylabel('Portfolio Value')\n",
    "plt.legend()\n",
    "plt.show()"
   ]
  }
 ],
 "metadata": {
  "kernelspec": {
   "display_name": "Python [conda env:base] *",
   "language": "python",
   "name": "conda-base-py"
  },
  "language_info": {
   "codemirror_mode": {
    "name": "ipython",
    "version": 3
   },
   "file_extension": ".py",
   "mimetype": "text/x-python",
   "name": "python",
   "nbconvert_exporter": "python",
   "pygments_lexer": "ipython3",
   "version": "3.13.5"
  }
 },
 "nbformat": 4,
 "nbformat_minor": 5
}
