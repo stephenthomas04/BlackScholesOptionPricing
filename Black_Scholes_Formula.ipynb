{
 "cells": [
  {
   "cell_type": "code",
   "execution_count": 1,
   "id": "b4a3f4bf-8b32-4655-b4e5-e8ecfdcc68c0",
   "metadata": {},
   "outputs": [],
   "source": [
    "import math\n",
    "from scipy.stats import norm"
   ]
  },
  {
   "cell_type": "code",
   "execution_count": 2,
   "id": "facadaea-075b-4037-86d7-707fe354fbd8",
   "metadata": {},
   "outputs": [],
   "source": [
    "S = 45  # Underlying Price\n",
    "K = 40  # Strike Price\n",
    "T = 2   # Time to Expiration\n",
    "r = 0.1 # Risk-Free Rate\n",
    "vol = 0.1 # Volatility (σ)"
   ]
  },
  {
   "cell_type": "code",
   "execution_count": 3,
   "id": "e45ccb59-0ba3-4383-94dc-9fae2058ce83",
   "metadata": {},
   "outputs": [],
   "source": [
    "d1 = (math.log(S/K) + (r + 0.5 * vol**2)*T ) / (vol * math.sqrt(T))"
   ]
  },
  {
   "cell_type": "code",
   "execution_count": 4,
   "id": "c0577b66-aec7-4122-bb43-852875f51810",
   "metadata": {},
   "outputs": [],
   "source": [
    "d2 = d1 - (vol * math.sqrt(T))"
   ]
  },
  {
   "cell_type": "code",
   "execution_count": 5,
   "id": "d35c6602-e122-4e44-8c76-c52ff9ed17bf",
   "metadata": {},
   "outputs": [],
   "source": [
    "C = S * norm.cdf(d1) - K * math.exp(-r * T) * norm.cdf(d2)"
   ]
  },
  {
   "cell_type": "code",
   "execution_count": 6,
   "id": "d98f6d47-9d92-4004-8fca-5aa4e1fb012a",
   "metadata": {},
   "outputs": [],
   "source": [
    "P = K * math.exp(-r * T) * norm.cdf(-d2) - S * norm.cdf(-d1)"
   ]
  },
  {
   "cell_type": "code",
   "execution_count": 7,
   "id": "dc29b409-baf3-4849-9c30-42858600653d",
   "metadata": {},
   "outputs": [
    {
     "name": "stdout",
     "output_type": "stream",
     "text": [
      "The value of d1 is:  2.3178\n",
      "The value of d2 is:  2.1764\n",
      "The price of the call option is: $ 12.27\n",
      "The price of the put option is: $ 0.02\n"
     ]
    }
   ],
   "source": [
    "print('The value of d1 is: ', round(d1, 4))\n",
    "print('The value of d2 is: ', round(d2, 4))\n",
    "print('The price of the call option is: $', round(C, 2))\n",
    "print('The price of the put option is: $', round(P, 2))"
   ]
  }
 ],
 "metadata": {
  "kernelspec": {
   "display_name": "Python [conda env:base] *",
   "language": "python",
   "name": "conda-base-py"
  },
  "language_info": {
   "codemirror_mode": {
    "name": "ipython",
    "version": 3
   },
   "file_extension": ".py",
   "mimetype": "text/x-python",
   "name": "python",
   "nbconvert_exporter": "python",
   "pygments_lexer": "ipython3",
   "version": "3.13.5"
  }
 },
 "nbformat": 4,
 "nbformat_minor": 5
}
